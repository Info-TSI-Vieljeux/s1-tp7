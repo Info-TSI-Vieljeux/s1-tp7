{
 "cells": [
  {
   "cell_type": "markdown",
   "id": "61ca4878",
   "metadata": {},
   "source": [
    ">Ouvrir le notebook dans Colab en modifiant le début de son adresse dans le navigateur :<br>\n",
    "il faut remplacer **github.com** par **githubtocolab.com**.<br>\n",
    "Une fois vos réponses apportées, le notebook devra être sauvegardé dans GitHub, dans le repository du TP :<br>\n",
    "*Fichier > Enregistrer une copie dans Github*<br>\n",
    "*Info-TSI-Vieljeux/tpx-votre_nom*<br>\n",
    "\n",
    "---"
   ]
  },
  {
   "cell_type": "markdown",
   "id": "437ef4be",
   "metadata": {
    "deletable": false,
    "editable": false,
    "nbgrader": {
     "cell_type": "markdown",
     "checksum": "37588740b591b513f47719fe376c510b",
     "grade": false,
     "grade_id": "cell-a1c60c4f33b8ed9b",
     "locked": true,
     "schema_version": 3,
     "solution": false,
     "task": false
    }
   },
   "source": [
    "# Tableau de pixels et images"
   ]
  },
  {
   "cell_type": "markdown",
   "id": "bad41eb0",
   "metadata": {
    "deletable": false,
    "editable": false,
    "nbgrader": {
     "cell_type": "markdown",
     "checksum": "7c4c4f4d3af2ab45d4328033abb7abeb",
     "grade": false,
     "grade_id": "cell-0d33a3b41da5e95e",
     "locked": true,
     "schema_version": 3,
     "solution": false,
     "task": false
    }
   },
   "source": [
    "## Importer une image"
   ]
  },
  {
   "cell_type": "markdown",
   "id": "b10b0edd",
   "metadata": {
    "deletable": false,
    "editable": false,
    "nbgrader": {
     "cell_type": "markdown",
     "checksum": "caece4798f028d1bdc4d390a755005db",
     "grade": false,
     "grade_id": "cell-9577bfb8c2e86905",
     "locked": true,
     "schema_version": 3,
     "solution": false,
     "task": false
    }
   },
   "source": [
    "PIL (python imaging library) est l'une des librairies Python permettant de manipuler des fichiers image. On va l'utiliser en association avec numpy qui est le module de choix pour jouer avec des tableaux numériques."
   ]
  },
  {
   "cell_type": "code",
   "execution_count": null,
   "id": "240f2ed6",
   "metadata": {},
   "outputs": [],
   "source": [
    "from PIL import Image\n",
    "import urllib.request # pour récupérer une image sur le web\n",
    "from IPython.display import display # pour afficher dans le notebook\n",
    "import matplotlib.pyplot as plt\n",
    "import numpy as np\n",
    "plt.rcParams[\"figure.figsize\"] = (15,10)\n",
    "\n",
    "urllib.request.urlretrieve('https://i.redd.it/quqjmqmi44q51.jpg', 'girafe') # récupération du fichier image\n",
    "image_girafe = np.array(Image.open('girafe')) # l'image est convertie en un tableau numpy\n",
    "girafe = Image.fromarray(image_girafe) # le tableau est converti en un objet image\n",
    "display(girafe) # affichage"
   ]
  },
  {
   "cell_type": "markdown",
   "id": "909afb16",
   "metadata": {
    "deletable": false,
    "editable": false,
    "nbgrader": {
     "cell_type": "markdown",
     "checksum": "2175f975886e2bc41945831c41e4d32b",
     "grade": false,
     "grade_id": "cell-4e3580b3bab9fa7e",
     "locked": true,
     "schema_version": 3,
     "solution": false,
     "task": false
    }
   },
   "source": [
    "On a récupéré les données de l'image dans un tableau à trois dimensions numpy. \n",
    "\n",
    "Les deux premières dimensions correspondent aux coordonnées spatiales du pixel et l'indexation d'un tableau numpy autorise l'utilisation de virgules pour imiter les coordonnées mathématiques (mais les x et les y sont inversés car il s'agit de matrice et on commence toujours par indexer les lignes avant les colonnes). Le pixel ayant la coordonnée cartésienne $(x,y)$ avec une origine $(0,0)$ en haut à gauche va donc correspondre à l'élément `image[y,x]` (on peut aussi, comme avec les listes python, obtenir l'élément via `image[y][x]`).\n",
    "\n",
    "Et à chacun de ses pixels correspond un tableau de 3 entiers compris entre 0 et 255 codant la couleur du pixel (codage rgb, un nombre pour l'intensité du rouge, un pour l'intensité du vert et le dernier pour le bleu). C'est la 3<sup>e</sup> dimension du tableau."
   ]
  },
  {
   "cell_type": "code",
   "execution_count": null,
   "id": "8e920e6d",
   "metadata": {},
   "outputs": [],
   "source": [
    "print(image_girafe.shape)"
   ]
  },
  {
   "cell_type": "code",
   "execution_count": null,
   "id": "b49ee54f",
   "metadata": {},
   "outputs": [],
   "source": [
    "hauteur, largeur, _ = image_girafe.shape\n",
    "print(f'largeur : {largeur} pixels, hauteur : {hauteur} pixels')"
   ]
  },
  {
   "cell_type": "code",
   "execution_count": null,
   "id": "1498ed2d",
   "metadata": {},
   "outputs": [],
   "source": [
    "print(image_girafe[20,700])\n",
    "print(image_girafe[20][700])"
   ]
  },
  {
   "cell_type": "markdown",
   "id": "5ea13ea0",
   "metadata": {
    "deletable": false,
    "editable": false,
    "nbgrader": {
     "cell_type": "markdown",
     "checksum": "b719e33f964ccb465c1ee5a371ebc2eb",
     "grade": false,
     "grade_id": "cell-3a569fe4efefb8b1",
     "locked": true,
     "schema_version": 3,
     "solution": false,
     "task": false
    }
   },
   "source": [
    " "
   ]
  },
  {
   "cell_type": "markdown",
   "id": "989d068f",
   "metadata": {
    "deletable": false,
    "editable": false,
    "nbgrader": {
     "cell_type": "markdown",
     "checksum": "9e850155148112619f30a94d7b9982fd",
     "grade": false,
     "grade_id": "cell-1863a4fc873de9fa",
     "locked": true,
     "schema_version": 3,
     "solution": false,
     "task": false
    }
   },
   "source": [
    "## Codage RGB"
   ]
  },
  {
   "cell_type": "markdown",
   "id": "b029d0e3",
   "metadata": {
    "deletable": false,
    "editable": false,
    "nbgrader": {
     "cell_type": "markdown",
     "checksum": "84d18701a4aa0120b00791eb4528b675",
     "grade": false,
     "grade_id": "cell-c50120e7a7c004c8",
     "locked": true,
     "schema_version": 3,
     "solution": false,
     "task": false
    }
   },
   "source": [
    "RGB pour Red Green Blue (RVB en français) est un système de codage informatique des couleurs. Il repose sur la synthèse additive et suit donc le même principe que le codage des couleurs dans notre cerveau à partir des signaux envoyés par trois cellules spécialisées tapissant nos rétines, les cones, chacune ayant un spectre d'absorption centré sur les longueurs d'onde correspondantes à l'une des trois couleurs, rouge, vert ou bleu."
   ]
  },
  {
   "cell_type": "code",
   "execution_count": null,
   "id": "862b073d",
   "metadata": {},
   "outputs": [],
   "source": [
    "longueur = 400\n",
    "synthese = np.zeros([longueur, longueur, 3], dtype=np.uint8) \n",
    "# création d'un tableau de dimension 3 (2 dimensions spatiales + la couleur) dont les entrées sont des entiers non signés codés sur 8 bits\n",
    "taille = longueur//2\n",
    "x1,y1 = longueur//8,5*longueur//16\n",
    "x2,y2 = longueur//4,longueur//8\n",
    "x3,y3 = 3*longueur//8,3*longueur//8\n",
    "synthese[y1:y1+taille,x1:x1+taille] = [255, 0, 0]\n",
    "synthese[y2:y2+taille,x2:x2+taille] = [0, 255, 0]\n",
    "synthese[y3:y3+taille,x3:x3+taille] = [0, 0, 255]\n",
    "affichage = Image.fromarray(synthese)\n",
    "display(affichage)"
   ]
  },
  {
   "cell_type": "markdown",
   "id": "512f9b4a",
   "metadata": {
    "deletable": false,
    "editable": false,
    "nbgrader": {
     "cell_type": "markdown",
     "checksum": "6fbdad06f6b64931bfb822b33b28d7a4",
     "grade": false,
     "grade_id": "cell-c3243382e9ecabad",
     "locked": true,
     "schema_version": 3,
     "solution": false,
     "task": false
    }
   },
   "source": [
    "En exécutant la cellule précédente, on voit qu'il manque à l'image les zones de superposition.\n",
    "\n",
    "Modifier l'image `synthese` pour reproduire celle de l'énoncé."
   ]
  },
  {
   "cell_type": "code",
   "execution_count": null,
   "id": "edaf3395",
   "metadata": {
    "deletable": false,
    "nbgrader": {
     "cell_type": "code",
     "checksum": "74ea997b0d3b93a60f61c3304443ff2c",
     "grade": false,
     "grade_id": "cell-bcb406ced6f6dc9d",
     "locked": false,
     "schema_version": 3,
     "solution": true,
     "task": false
    }
   },
   "outputs": [],
   "source": [
    "# aide : la ligne suivante ajoute la zone cyan :\n",
    "synthese[y3:y2+taille,x1+taille:x2+taille] = [0, 255, 255]\n",
    "# VOTRE CODE\n",
    "affichage = Image.fromarray(synthese)\n",
    "display(affichage)"
   ]
  },
  {
   "cell_type": "code",
   "execution_count": null,
   "id": "388b4b45",
   "metadata": {
    "deletable": false,
    "editable": false,
    "nbgrader": {
     "cell_type": "code",
     "checksum": "c4648d07befd30ba936976d17441b13f",
     "grade": true,
     "grade_id": "cell-b1c64f98149fa556",
     "locked": true,
     "points": 2,
     "schema_version": 3,
     "solution": false,
     "task": false
    }
   },
   "outputs": [],
   "source": [
    "# zone de tests, ne pas modifier"
   ]
  },
  {
   "cell_type": "markdown",
   "id": "fab67308",
   "metadata": {
    "deletable": false,
    "editable": false,
    "nbgrader": {
     "cell_type": "markdown",
     "checksum": "2143250a98ef0aff8a2dde10bde25a21",
     "grade": false,
     "grade_id": "cell-35a88b11a640ea71",
     "locked": true,
     "schema_version": 3,
     "solution": false,
     "task": false
    }
   },
   "source": [
    "Faisons notre propre expérience physique de synthèse additive en codant des zones où les pixels alternent 2 couleurs primaires :"
   ]
  },
  {
   "cell_type": "code",
   "execution_count": null,
   "id": "9a3b19a8",
   "metadata": {},
   "outputs": [],
   "source": [
    "largeur = 900\n",
    "hauteur = 300\n",
    "synth_phy = np.zeros([hauteur, largeur, 3], dtype=np.uint8)\n",
    "for i in range(hauteur) :\n",
    "    for j in range(largeur//3) :\n",
    "        if (i+j)%2 :\n",
    "            synth_phy[i,j] = [255,0,0]\n",
    "        else : \n",
    "            synth_phy[i,j] = [0,255,0]\n",
    "for i in range(hauteur) :\n",
    "    for j in range(largeur//3,2*largeur//3) :\n",
    "        if (i+j)%2 :\n",
    "            synth_phy[i,j] = [0,0,255]\n",
    "        else : \n",
    "            synth_phy[i,j] = [0,255,0]\n",
    "for i in range(hauteur) :\n",
    "    for j in range(2*largeur//3,largeur) :\n",
    "        if (i+j)%2 :\n",
    "            synth_phy[i,j] = [0,0,255]\n",
    "        else : \n",
    "            synth_phy[i,j] = [255,0,0]\n",
    "synth_phy = Image.fromarray(synth_phy)\n",
    "display(synth_phy)"
   ]
  },
  {
   "cell_type": "markdown",
   "id": "aea52e59",
   "metadata": {
    "deletable": false,
    "editable": false,
    "nbgrader": {
     "cell_type": "markdown",
     "checksum": "b6bf7620bd285010e0829940488c9ffa",
     "grade": false,
     "grade_id": "cell-1374fe9df16c8b41",
     "locked": true,
     "schema_version": 3,
     "solution": false,
     "task": false
    }
   },
   "source": [
    "Récupérons les composantes bleues, vertes et rouges de la photo de girafe :"
   ]
  },
  {
   "cell_type": "code",
   "execution_count": null,
   "id": "35226acb",
   "metadata": {},
   "outputs": [],
   "source": [
    "image_R = image_girafe.copy()\n",
    "image_R[:,:,(1,2)] = 0\n",
    "# équivalent à :\n",
    "# for i in range(hauteur) :\n",
    "#     for j in range(largeur) :\n",
    "#         image_R[i][j][1] = 0\n",
    "#         image_R[i][j][2] = 0\n",
    "image_G = image_girafe.copy()\n",
    "image_G[:,:,(0,2)] = 0\n",
    "image_B = image_girafe.copy()\n",
    "image_B[:,:,(0,1)] = 0\n",
    "\n",
    "rvb = np.concatenate((image_R, image_G, image_B), axis=1)\n",
    "rvb = Image.fromarray(rvb)\n",
    "display(rvb)"
   ]
  },
  {
   "cell_type": "markdown",
   "id": "ef706c55",
   "metadata": {},
   "source": [
    "La superposition des trois filtres reproduit les couleurs d'origine."
   ]
  },
  {
   "cell_type": "code",
   "execution_count": null,
   "id": "30926490",
   "metadata": {},
   "outputs": [],
   "source": [
    "image_rec = image_B.copy()\n",
    "image_rec[:,60:500] += image_G[:,60:500]\n",
    "image_rec[75:650,:] += image_R[75:650,:]\n",
    "image_rec = Image.fromarray(image_rec)\n",
    "display(image_rec)"
   ]
  },
  {
   "cell_type": "markdown",
   "id": "0a0b0836",
   "metadata": {
    "deletable": false,
    "editable": false,
    "nbgrader": {
     "cell_type": "markdown",
     "checksum": "bef858834c16f6b3ebb464172e55e9df",
     "grade": false,
     "grade_id": "cell-0434ffb493375fcb",
     "locked": true,
     "schema_version": 3,
     "solution": false,
     "task": false
    }
   },
   "source": [
    "Dans le codage RGB utilisé aujourd'hui, l'intensité de chacune des 3 couleurs primaires est codée sur un octet (8 bits), ce qui permet une profondeur de 24 bits pour différentier les couleurs.<br>\n",
    "Combien de couleurs sont alors représentables par ce système ?"
   ]
  },
  {
   "cell_type": "code",
   "execution_count": null,
   "id": "6777f4ca",
   "metadata": {},
   "outputs": [],
   "source": [
    "# Modifiez l'entier affecté à la variable `nb_couleurs` pour qu'il corresponde à votre réponse :\n",
    "nb_couleurs = 25"
   ]
  },
  {
   "cell_type": "code",
   "execution_count": null,
   "id": "f0a3792a",
   "metadata": {
    "deletable": false,
    "editable": false,
    "nbgrader": {
     "cell_type": "code",
     "checksum": "80d67d2402543ec7b7027c72287e4298",
     "grade": true,
     "grade_id": "cell-088350928fdea52b",
     "locked": true,
     "points": 1,
     "schema_version": 3,
     "solution": false,
     "task": false
    }
   },
   "outputs": [],
   "source": [
    "# zone de tests, ne pas modifier"
   ]
  },
  {
   "cell_type": "markdown",
   "id": "cc46942a",
   "metadata": {
    "deletable": false,
    "editable": false,
    "nbgrader": {
     "cell_type": "markdown",
     "checksum": "b1bf7d76887d95d66641844715114b2d",
     "grade": false,
     "grade_id": "cell-352db398cd98085f",
     "locked": true,
     "schema_version": 3,
     "solution": false,
     "task": false
    }
   },
   "source": [
    "Fabriquons une image contenant toutes ces couleurs.\n",
    "\n",
    "L'idée est de fabriquer d'abord une image $256\\times 256$ contenant toutes les nuances possibles de vert et rouge, de l'agrandir d'un facteur 16 de manière à qu'une combinaison rouge/vert unique corresponde à un gros pixel de $16\\times16$. Et on additionne à chacun de ces gros pixels une image $16\\times16$ bleu contenant les 256 teintes de bleu disposées en spirale."
   ]
  },
  {
   "cell_type": "markdown",
   "id": "7e3154ff",
   "metadata": {},
   "source": [
    "![](http://cordier-phychi.toile-libre.org/Info/github/rougevertetspir.png)"
   ]
  },
  {
   "cell_type": "markdown",
   "id": "0980eff9",
   "metadata": {
    "deletable": false,
    "editable": false,
    "nbgrader": {
     "cell_type": "markdown",
     "checksum": "27e863bf5551cd054fbc608c4cb119ec",
     "grade": false,
     "grade_id": "cell-a1ab6efa94e7c6f1",
     "locked": true,
     "schema_version": 3,
     "solution": false,
     "task": false
    }
   },
   "source": [
    "L'image rouge/verte est assez simple à coder (l'exécution met un peu de temps) :"
   ]
  },
  {
   "cell_type": "code",
   "execution_count": null,
   "id": "7e3ca15e",
   "metadata": {},
   "outputs": [],
   "source": [
    "L1 = 4096\n",
    "rougevert = np.zeros([L1, L1, 3], dtype=np.uint8)\n",
    "for r in range(256*16) :\n",
    "    for g in range(256*16) :\n",
    "        rougevert[r,g]=[r//16,g//16,0]\n",
    "plt.imshow(rougevert)"
   ]
  },
  {
   "cell_type": "markdown",
   "id": "143df98b",
   "metadata": {
    "deletable": false,
    "editable": false,
    "nbgrader": {
     "cell_type": "markdown",
     "checksum": "aee8300795a4a8b1189f55ffb84d324e",
     "grade": false,
     "grade_id": "cell-de20870e00c96c8e",
     "locked": true,
     "schema_version": 3,
     "solution": false,
     "task": false
    }
   },
   "source": [
    "Fabriquer la spirale bleue est plus dur...<br> \n",
    "L'image doit faire $16\\times16$ et contenir toutes les nuances de bleu. On commence en haut à gauche (x=0 et y=0) par du noir (0,0,0), et on progresse dans le sens des aiguilles d'une montre en ajoutant 1 à l'intensité du bleu à chaque pixel successif de la spirale pour finir au centre (en position x=7, y=8 pour être précis) par un pixel 100% bleu (0,0,255).\n",
    "\n",
    "Construisez la spirale bleue (du moins la matrice qui sera représentée par la spirale bleue)."
   ]
  },
  {
   "cell_type": "code",
   "execution_count": null,
   "id": "2d208916",
   "metadata": {
    "deletable": false,
    "nbgrader": {
     "cell_type": "code",
     "checksum": "43f604766a1f58e0e2a38b5f25b623a2",
     "grade": false,
     "grade_id": "cell-3fb7ded7fae907b5",
     "locked": false,
     "schema_version": 3,
     "solution": true,
     "task": false
    }
   },
   "outputs": [],
   "source": [
    "# vous appellerez votre image \"bleu\"\n",
    "L2 = 16\n",
    "bleu = np.zeros([L2, L2, 3], dtype=np.uint8)\n",
    "# VOTRE CODE\n",
    "plt.imshow(bleu)\n",
    "# cette commande devra afficher une image similaire à celle de l'énoncé !"
   ]
  },
  {
   "cell_type": "code",
   "execution_count": null,
   "id": "b265bddb",
   "metadata": {
    "deletable": false,
    "editable": false,
    "nbgrader": {
     "cell_type": "code",
     "checksum": "2852bf75d32181f82ad51531680a5d04",
     "grade": true,
     "grade_id": "cell-79617f0da788c302",
     "locked": true,
     "points": 2,
     "schema_version": 3,
     "solution": false,
     "task": false
    }
   },
   "outputs": [],
   "source": [
    "# zone de tests, ne pas modifier"
   ]
  },
  {
   "cell_type": "code",
   "execution_count": null,
   "id": "b34d929c",
   "metadata": {},
   "outputs": [],
   "source": [
    "longueur = 4096\n",
    "rougevertbleu = np.zeros([longueur, longueur, 3], dtype=np.uint8)\n",
    "for i in range(0,4096,16) :\n",
    "    for j in range(0,4096,16) :\n",
    "        rougevertbleu[i:i+16,j:j+16] = rougevert[i:i+16,j:j+16]+bleu\n",
    "rougevertbleu = Image.fromarray(rougevertbleu)\n",
    "display(rougevertbleu)"
   ]
  },
  {
   "cell_type": "markdown",
   "id": "fc8197a7",
   "metadata": {
    "deletable": false,
    "editable": false,
    "nbgrader": {
     "cell_type": "markdown",
     "checksum": "aa65a6bc5222c9726c6556d0a150a98c",
     "grade": false,
     "grade_id": "cell-8901293ee1ed1930",
     "locked": true,
     "schema_version": 3,
     "solution": false,
     "task": false
    }
   },
   "source": [
    "Les premières consoles de jeu avaient des graphismes de 6 bits (de profondeur). Plutôt que 256 possibilités pour chaque sous-pixel, on en était réduit à seulement 4 choix (2 bits).\n",
    "\n",
    "![](https://d3isma7snj3lcx.cloudfront.net/optim/images/gallery/26/26635/super-mario-bros-nes-155dee7e__930_250__86-619-1680-1050.jpg)"
   ]
  },
  {
   "cell_type": "markdown",
   "id": "1928c6c0",
   "metadata": {
    "deletable": false,
    "editable": false,
    "nbgrader": {
     "cell_type": "markdown",
     "checksum": "86cf5890b86078405b17805573b46b5d",
     "grade": false,
     "grade_id": "cell-12a7de4dba48a7d3",
     "locked": true,
     "schema_version": 3,
     "solution": false,
     "task": false
    }
   },
   "source": [
    "Définissez une fonction permettant de convertir l'image de la giraffe en 6 bits."
   ]
  },
  {
   "cell_type": "code",
   "execution_count": null,
   "id": "648f574e",
   "metadata": {
    "deletable": false,
    "nbgrader": {
     "cell_type": "code",
     "checksum": "8d8540bcf514e02e19f353e514d3b83a",
     "grade": false,
     "grade_id": "cell-15fab211fcb903b1",
     "locked": false,
     "schema_version": 3,
     "solution": true,
     "task": false
    }
   },
   "outputs": [],
   "source": [
    "def sixbit(image) :\n",
    "    \"\"\"\n",
    "    prend en argument un tableau numpy à 3 dimensions () obtenu comme plus haut via np.array(Image.open('nom'))\n",
    "    et renvoie un nouveau tableau de mêmes dimensions correspondant à une conversion en 6 bits de l'image (chacune des 3 couleurs doit maintant n'avoir que 4 valeurs d'intensité possibles uniformément réparties).\n",
    "    \"\"\"\n",
    "    # VOTRE CODE"
   ]
  },
  {
   "cell_type": "code",
   "execution_count": null,
   "id": "17ee7723",
   "metadata": {
    "deletable": false,
    "editable": false,
    "nbgrader": {
     "cell_type": "code",
     "checksum": "433ac64f0a9804d4fb0159157ce15b23",
     "grade": false,
     "grade_id": "cell-ea0806fb0f5a8672",
     "locked": true,
     "schema_version": 3,
     "solution": false,
     "task": false
    }
   },
   "outputs": [],
   "source": [
    "giraffe = Image.fromarray(sixbit(image_girafe))\n",
    "display(giraffe)"
   ]
  },
  {
   "cell_type": "code",
   "execution_count": null,
   "id": "c9c272f5",
   "metadata": {
    "deletable": false,
    "editable": false,
    "nbgrader": {
     "cell_type": "code",
     "checksum": "4aaa8e75d140d0a3c3d79608982d763e",
     "grade": true,
     "grade_id": "cell-c8b99a684294717c",
     "locked": true,
     "points": 1,
     "schema_version": 3,
     "solution": false,
     "task": false
    }
   },
   "outputs": [],
   "source": [
    "# zone de tests, ne pas modifier"
   ]
  },
  {
   "cell_type": "markdown",
   "id": "70880a65",
   "metadata": {
    "deletable": false,
    "editable": false,
    "nbgrader": {
     "cell_type": "markdown",
     "checksum": "4b8eef1380075b76970fd39be5568ebd",
     "grade": false,
     "grade_id": "cell-232668ec3cb0d226",
     "locked": true,
     "schema_version": 3,
     "solution": false,
     "task": false
    }
   },
   "source": [
    "On peut très facilement inverser les couleurs de l'image. Une ligne suffit :"
   ]
  },
  {
   "cell_type": "code",
   "execution_count": null,
   "id": "6b23b7fb",
   "metadata": {},
   "outputs": [],
   "source": [
    "image_inv = 255-image_girafe\n",
    "image_inv = Image.fromarray(image_inv)\n",
    "display(image_inv)"
   ]
  },
  {
   "cell_type": "markdown",
   "id": "c99ca2fa",
   "metadata": {
    "deletable": false,
    "editable": false,
    "nbgrader": {
     "cell_type": "markdown",
     "checksum": "65b642f09c2f92b23026016f1c50dcef",
     "grade": false,
     "grade_id": "cell-d61165c1ee5793e8",
     "locked": true,
     "schema_version": 3,
     "solution": false,
     "task": false
    }
   },
   "source": [
    "Construire une fonction `NB` qui retourne une version \"niveau de gris\" de l'image donnée en argument.\n",
    "\n",
    "Principe de la manœuvre : $(r,g,b)\\rightarrow (\\frac{r+g+b}{3},\\frac{r+g+b}{3},\\frac{r+g+b}{3})$"
   ]
  },
  {
   "cell_type": "code",
   "execution_count": null,
   "id": "daf33791",
   "metadata": {
    "deletable": false,
    "nbgrader": {
     "cell_type": "code",
     "checksum": "4c37fb2eb67ee04b40e81df58406972e",
     "grade": false,
     "grade_id": "cell-35b2c3f2fd1e7b60",
     "locked": false,
     "schema_version": 3,
     "solution": true,
     "task": false
    }
   },
   "outputs": [],
   "source": [
    "def NB(image) :\n",
    "    \"\"\"\n",
    "    prend en argument un tableau numpy à 3 dimensions () obtenu comme plus haut via np.array(Image.open('nom'))\n",
    "    et renvoie un nouveau tableau correspondant à une conversion en niveau de gris de l'image.\n",
    "    \"\"\"\n",
    "    # VOTRE CODE"
   ]
  },
  {
   "cell_type": "code",
   "execution_count": null,
   "id": "d8d87158",
   "metadata": {
    "deletable": false,
    "editable": false,
    "nbgrader": {
     "cell_type": "code",
     "checksum": "e56417ca71105e1333f9064560aa1f29",
     "grade": false,
     "grade_id": "cell-a793bd1372c58ffc",
     "locked": true,
     "schema_version": 3,
     "solution": false,
     "task": false
    }
   },
   "outputs": [],
   "source": [
    "girafe_NB = Image.fromarray(NB(image_girafe))\n",
    "display(girafe_NB)"
   ]
  },
  {
   "cell_type": "code",
   "execution_count": null,
   "id": "7bafafdd",
   "metadata": {
    "deletable": false,
    "editable": false,
    "nbgrader": {
     "cell_type": "code",
     "checksum": "54b72c870d906de029a555a8f3e65026",
     "grade": true,
     "grade_id": "cell-1c1576e0b1809274",
     "locked": true,
     "points": 1,
     "schema_version": 3,
     "solution": false,
     "task": false
    }
   },
   "outputs": [],
   "source": [
    "# zone de tests, ne pas modifier"
   ]
  },
  {
   "cell_type": "markdown",
   "id": "44fcea4d",
   "metadata": {},
   "source": [
    " "
   ]
  },
  {
   "cell_type": "markdown",
   "id": "0e12f0ea",
   "metadata": {
    "deletable": false,
    "editable": false,
    "nbgrader": {
     "cell_type": "markdown",
     "checksum": "1acb5ec7efcee8747389f5764487c233",
     "grade": false,
     "grade_id": "cell-2bd7d536cdd11cbe",
     "locked": true,
     "schema_version": 3,
     "solution": false,
     "task": false
    }
   },
   "source": [
    "## Transformation d'une image"
   ]
  },
  {
   "cell_type": "markdown",
   "id": "6b840795",
   "metadata": {
    "deletable": false,
    "editable": false,
    "nbgrader": {
     "cell_type": "markdown",
     "checksum": "08fa92b01b91973392764799e7db818d",
     "grade": false,
     "grade_id": "cell-cc2d17122a7189db",
     "locked": true,
     "schema_version": 3,
     "solution": false,
     "task": false
    }
   },
   "source": [
    "Construisez une fonction `recadrage` qui prend en argument l'image à recadrer, les coordonnées du coin supérieur gauche du nouveau cadre (sous la forme d'un tuple (x,y)), la largeur et la hauteur du nouveau cadre.<br>\n",
    "Faites en sorte que `recadrage(image_girafe,(30,50),500,600)` recadre la tête de la girafe comme ci-dessous.\n",
    "<img src=\"http://cordier-phychi.toile-libre.org/Info/github/recadrage.png\" width=\"800\"/>"
   ]
  },
  {
   "cell_type": "code",
   "execution_count": null,
   "id": "608ac5c0",
   "metadata": {
    "deletable": false,
    "nbgrader": {
     "cell_type": "code",
     "checksum": "26bfcaf493ad48684e92008a617936d6",
     "grade": false,
     "grade_id": "cell-45badcb02ac3f743",
     "locked": false,
     "schema_version": 3,
     "solution": true,
     "task": false
    }
   },
   "outputs": [],
   "source": [
    "def recadrage(image,xy_coin,l_cadre,h_cadre) :\n",
    "    \"\"\"\n",
    "    prend en argument un tableau numpy à 3 dimensions (hauteur,largeur,3) obtenu comme plus haut via np.array(Image.open('nom'))\n",
    "    et renvoie un nouveau tableau à 3 dimensions (h_cadre,l_cadre,3).\n",
    "    L'argument xy_coin est un tuple (x,y) où x et y sont des entiers correspondants aux coordonnées du coin supérieur gauche du nouveau cadre.\n",
    "    l_cadre et h_cadre étant des nombres de pixels, ils doivent être entiers.\n",
    "    \"\"\"\n",
    "    # VOTRE CODE"
   ]
  },
  {
   "cell_type": "code",
   "execution_count": null,
   "id": "8ce44e64",
   "metadata": {},
   "outputs": [],
   "source": [
    "affichage = Image.fromarray(recadrage(image_girafe,(30,50),500,600))\n",
    "display(affichage)"
   ]
  },
  {
   "cell_type": "code",
   "execution_count": null,
   "id": "09173d26",
   "metadata": {
    "deletable": false,
    "editable": false,
    "nbgrader": {
     "cell_type": "code",
     "checksum": "e73fa1966b250b17e2a79351690550a6",
     "grade": true,
     "grade_id": "cell-108d48d966833e35",
     "locked": true,
     "points": 1,
     "schema_version": 3,
     "solution": false,
     "task": false
    }
   },
   "outputs": [],
   "source": [
    "# zone de tests, ne pas modifier"
   ]
  },
  {
   "cell_type": "markdown",
   "id": "21948891",
   "metadata": {
    "deletable": false,
    "editable": false,
    "nbgrader": {
     "cell_type": "markdown",
     "checksum": "0e6bea8a00e718c37e0f38cc0e0884d8",
     "grade": false,
     "grade_id": "cell-38c53d33ef7ab564",
     "locked": true,
     "schema_version": 3,
     "solution": false,
     "task": false
    }
   },
   "source": [
    "Construisez ensuite une fonction `rotation` qui tourne l'image de 90° vers la gauche en modifiant la disposition des pixels."
   ]
  },
  {
   "cell_type": "code",
   "execution_count": null,
   "id": "d43a30a4",
   "metadata": {
    "deletable": false,
    "nbgrader": {
     "cell_type": "code",
     "checksum": "ac1b640a1cf4a8571fd7d902b39e5131",
     "grade": false,
     "grade_id": "cell-561731c25aba5df4",
     "locked": false,
     "schema_version": 3,
     "solution": true,
     "task": false
    }
   },
   "outputs": [],
   "source": [
    "def rotation(image) :\n",
    "    \"\"\"\n",
    "    prend en argument un tableau numpy à 3 dimensions (hauteur,largeur,3) obtenu comme plus haut via np.array(Image.open('nom'))\n",
    "    et renvoie un nouveau tableau correspondant à l'image tournée de 90° vers la gauche.\n",
    "    \"\"\"\n",
    "    # VOTRE CODE"
   ]
  },
  {
   "cell_type": "code",
   "execution_count": null,
   "id": "af7b03cd",
   "metadata": {},
   "outputs": [],
   "source": [
    "affichage = Image.fromarray(rotation(image_girafe))\n",
    "display(affichage)"
   ]
  },
  {
   "cell_type": "code",
   "execution_count": null,
   "id": "559eb595",
   "metadata": {
    "deletable": false,
    "editable": false,
    "nbgrader": {
     "cell_type": "code",
     "checksum": "c7a5121805ae14226f74671896870f50",
     "grade": true,
     "grade_id": "cell-9fc5009e3af1b730",
     "locked": true,
     "points": 1,
     "schema_version": 3,
     "solution": false,
     "task": false
    }
   },
   "outputs": [],
   "source": [
    "# zone de tests, ne pas modifier"
   ]
  },
  {
   "cell_type": "markdown",
   "id": "b00f01ba",
   "metadata": {
    "deletable": false,
    "editable": false,
    "nbgrader": {
     "cell_type": "markdown",
     "checksum": "2bcf2c7f14355fbb37bb5787f3d41366",
     "grade": false,
     "grade_id": "cell-85f766ab9adede97",
     "locked": true,
     "schema_version": 3,
     "solution": false,
     "task": false
    }
   },
   "source": [
    "On peut aussi s'amuser avec les symétries :"
   ]
  },
  {
   "cell_type": "code",
   "execution_count": null,
   "id": "7d72959c",
   "metadata": {},
   "outputs": [],
   "source": [
    "image_sym = np.copy(image)\n",
    "for i in range(min(hauteur,largeur)) :\n",
    "    for j in range(min(hauteur,largeur)) :\n",
    "        image_sym[i][j]=image_sym[j][i]\n",
    "affichage = Image.fromarray(image_sym)\n",
    "display(affichage)"
   ]
  },
  {
   "cell_type": "markdown",
   "id": "be73fd96",
   "metadata": {
    "deletable": false,
    "editable": false,
    "nbgrader": {
     "cell_type": "markdown",
     "checksum": "43ddac3560dd891e994be9f318c4ad28",
     "grade": false,
     "grade_id": "cell-a26773d78684ced2",
     "locked": true,
     "schema_version": 3,
     "solution": false,
     "task": false
    }
   },
   "source": [
    "  "
   ]
  },
  {
   "cell_type": "markdown",
   "id": "6c41b1da",
   "metadata": {
    "deletable": false,
    "editable": false,
    "nbgrader": {
     "cell_type": "markdown",
     "checksum": "a766f1760bdee9ad3042807f5303c8b5",
     "grade": false,
     "grade_id": "cell-b1e983aa4582a6af",
     "locked": true,
     "schema_version": 3,
     "solution": false,
     "task": false
    }
   },
   "source": [
    "## Traitement d'image (filtrage)"
   ]
  },
  {
   "cell_type": "markdown",
   "id": "de41328c",
   "metadata": {
    "deletable": false,
    "editable": false,
    "nbgrader": {
     "cell_type": "markdown",
     "checksum": "26da7b3dd90700400ef523fdc7c7d182",
     "grade": false,
     "grade_id": "cell-0bf6ae20d6bab1a8",
     "locked": true,
     "schema_version": 3,
     "solution": false,
     "task": false
    }
   },
   "source": [
    "On va maintenant passer à des transormations plus évoluées : \n",
    "- flou\n",
    "- amélioration de la netteté\n",
    "- détection des contours\n",
    "\n",
    "Elles reposent sur des convolutions dont la recette est la suivante :\n",
    "- une petite matrice, la matrice de convolution, appelée **noyau**, est choisie,\n",
    "- on balaye l'image à traiter avec un cadre ayant la taille de la matrice,\n",
    "- à l'intérieur du cadre, on multiplie chacune des valeurs d'intensité des pixels par le coefficient correspondant de la matrice,\n",
    "- on somme tous ces produits et on attribue la valeur au pixel au centre du cadre.\n",
    "\n",
    "Suivant le noyau utilisé, on va modifier l'image de différentes façons."
   ]
  },
  {
   "cell_type": "markdown",
   "id": "66c65baf",
   "metadata": {
    "deletable": false,
    "editable": false,
    "nbgrader": {
     "cell_type": "markdown",
     "checksum": "e8955e7002d8757eecdfa1d609f88f9d",
     "grade": false,
     "grade_id": "cell-751e914417d85806",
     "locked": true,
     "schema_version": 3,
     "solution": false,
     "task": false
    }
   },
   "source": [
    "### Floutage"
   ]
  },
  {
   "cell_type": "markdown",
   "id": "b37e65d4",
   "metadata": {
    "deletable": false,
    "editable": false,
    "nbgrader": {
     "cell_type": "markdown",
     "checksum": "c4dcc1d12ce7024637aa9cdd5085a9d4",
     "grade": false,
     "grade_id": "cell-22f1b32b38dcbd8f",
     "locked": true,
     "schema_version": 3,
     "solution": false,
     "task": false
    }
   },
   "source": [
    "L'idée va être de moyenner la valeur des pixels à l'intérieur du bloc grâce à la matrice F suivante :\n",
    "$$F=\\frac{1}{9}\\begin{pmatrix}1&1&1\\\\1&1&1\\\\1&1&1\\end{pmatrix}$$\n",
    "Cela revient à passer l'image dans un filtre passe-bas (= un moyenneur).<br>\n",
    "En effet, la valeur de l'intensité d'un pixel sera maintenant une moyenne entre tous ses voisins."
   ]
  },
  {
   "cell_type": "code",
   "execution_count": null,
   "id": "13d606f0",
   "metadata": {},
   "outputs": [],
   "source": [
    "def conv_np(A,B) :\n",
    "    h = len(A)\n",
    "    l = len(A[0])\n",
    "    C = np.zeros((h-2, l-2),dtype=int)\n",
    "    for i in range(3) :\n",
    "        for j in range(3) :\n",
    "            C += B[i,j]*A[i:h-2+i,j:l-2+j]\n",
    "    return C"
   ]
  },
  {
   "cell_type": "code",
   "execution_count": null,
   "id": "c51951f1",
   "metadata": {},
   "outputs": [],
   "source": [
    "A = np.array([[2,2,2,2,2,2],\n",
    "              [2,1,1,1,2,2],\n",
    "              [2,1,3,4,2,2],\n",
    "              [2,1,2,1,2,2],\n",
    "              [2,2,3,2,2,2]])\n",
    "\n",
    "B = np.array([[1,0,1],\n",
    "              [0,2,0],\n",
    "              [1,0,1]])\n",
    "\n",
    "C = conv_np(A,B)\n",
    "print(C)"
   ]
  },
  {
   "cell_type": "markdown",
   "id": "8e1c06b3",
   "metadata": {
    "deletable": false,
    "editable": false,
    "nbgrader": {
     "cell_type": "markdown",
     "checksum": "f967c4ba28fb2e5fe50412965c8ed869",
     "grade": false,
     "grade_id": "cell-470b8f1c3178707d",
     "locked": true,
     "schema_version": 3,
     "solution": false,
     "task": false
    }
   },
   "source": [
    "Que valent les éléments $c_{ij}$ de la matrice $C$ donnée par `conv_np(A,B)` ?\n",
    "- a : $\\sum_{k=1}^{3}a_{ik}b_{kj}$\n",
    "- b : $\\sum_{i=1}^{3}\\sum_{j=1}^{3}a_{(5-i)(5-j)}b_{ij}$ \n",
    "- c : $\\sum_{i=1}^{3}\\sum_{j=1}^{3}a_{(i+1)(j+1)}b_{ij}$ "
   ]
  },
  {
   "cell_type": "code",
   "execution_count": null,
   "id": "acebc094",
   "metadata": {
    "deletable": false,
    "editable": false,
    "nbgrader": {
     "cell_type": "code",
     "checksum": "9f8bc9690c780582ec2141f2a031a268",
     "grade": false,
     "grade_id": "cell-f496a02ce6828900",
     "locked": true,
     "schema_version": 3,
     "solution": false,
     "task": false
    }
   },
   "outputs": [],
   "source": [
    "# Affectez à la variable rep le caractère correspondant à votre réponse parmi 'a', 'b' ou 'c' :\n",
    "rep = 'd'"
   ]
  },
  {
   "cell_type": "code",
   "execution_count": null,
   "id": "d88c19c5",
   "metadata": {
    "deletable": false,
    "editable": false,
    "nbgrader": {
     "cell_type": "code",
     "checksum": "e92a10ddcc2ac818cc38bca4e18681ff",
     "grade": true,
     "grade_id": "cell-3282048ec5d135b2",
     "locked": true,
     "points": 1,
     "schema_version": 3,
     "solution": false,
     "task": false
    }
   },
   "outputs": [],
   "source": [
    "# zone de tests, ne pas modifier"
   ]
  },
  {
   "cell_type": "markdown",
   "id": "d450ca87",
   "metadata": {
    "deletable": false,
    "editable": false,
    "nbgrader": {
     "cell_type": "markdown",
     "checksum": "a0108d09a65c0b18449928d2e20efb2c",
     "grade": false,
     "grade_id": "cell-160435137c61ff57",
     "locked": true,
     "schema_version": 3,
     "solution": false,
     "task": false
    }
   },
   "source": [
    "La fonction suivante réalise la même tâche. Elle est moins rapide, mais permet des matrices $B$ plus grandes que $3\\times 3$ grâce à l'introduction du paramètre `marge`."
   ]
  },
  {
   "cell_type": "code",
   "execution_count": null,
   "id": "80e86d1c",
   "metadata": {
    "deletable": false,
    "editable": false,
    "nbgrader": {
     "cell_type": "code",
     "checksum": "f37531d6f94740d985c97261d7755f71",
     "grade": false,
     "grade_id": "cell-0af06f552424837a",
     "locked": true,
     "schema_version": 3,
     "solution": false,
     "task": false
    }
   },
   "outputs": [],
   "source": [
    "def conv(A,B,marge) :\n",
    "    A = A.astype(np.int16)\n",
    "    hauteur, largeur = A.shape\n",
    "    C = A.copy()\n",
    "    for i in range(marge,hauteur-marge) :\n",
    "        for j in range(marge,largeur-marge) :\n",
    "            C[i,j] = (A[i-marge:i+marge+1,j-marge:j+marge+1]*B).sum()\n",
    "    return C"
   ]
  },
  {
   "cell_type": "markdown",
   "id": "d38390f6",
   "metadata": {
    "deletable": false,
    "editable": false,
    "nbgrader": {
     "cell_type": "markdown",
     "checksum": "0dc043859470dbf54e5f560aae02899d",
     "grade": false,
     "grade_id": "cell-9a938fe24362ed1a",
     "locked": true,
     "schema_version": 3,
     "solution": false,
     "task": false
    }
   },
   "source": [
    "On va ainsi pouvoir contrôler l'intensité du floutage en liant la taille de la matrice $B$ au paramètre `force`."
   ]
  },
  {
   "cell_type": "code",
   "execution_count": null,
   "id": "1c472626",
   "metadata": {
    "deletable": false,
    "editable": false,
    "nbgrader": {
     "cell_type": "code",
     "checksum": "717eb01b381215e79d72e34ad8112825",
     "grade": false,
     "grade_id": "cell-6adf79a963ef1676",
     "locked": true,
     "schema_version": 3,
     "solution": false,
     "task": false
    }
   },
   "outputs": [],
   "source": [
    "def flou(image,force) :\n",
    "    \"\"\"\n",
    "    flou(image,intensite_flou)->image_floue\n",
    "    image doit être un tableau dimension d'entier non signés codés sur 8 bits\n",
    "    intensité_flou est un entier >= 1\n",
    "    image_floue est du même type qu'image\n",
    "    \"\"\"\n",
    "    taille = 2*force+1 # taille de la matrice F\n",
    "    F = np.ones((taille,taille))*1/taille**2  # matrice pour la convolution\n",
    "    marge = (taille-1)//2\n",
    "    image_floue = image.copy()\n",
    "    hauteur,largeur = image_floue.shape\n",
    "    image_floue = conv(image,F,marge)\n",
    "    image_floue = image_floue.astype(np.uint8)\n",
    "    return image_floue"
   ]
  },
  {
   "cell_type": "code",
   "execution_count": null,
   "id": "c29c0b52",
   "metadata": {
    "deletable": false,
    "editable": false,
    "nbgrader": {
     "cell_type": "code",
     "checksum": "430a4f984709afd32d124aab767793f8",
     "grade": false,
     "grade_id": "cell-3d6c5f6ce0980ac0",
     "locked": true,
     "schema_version": 3,
     "solution": false,
     "task": false
    }
   },
   "outputs": [],
   "source": [
    "urllib.request.urlretrieve('https://fichier0.cirkwi.com/image/photo/poi/800x500/545297/fr/0.jpg', 'LaR')\n",
    "image_LR = np.array(Image.open('LaR'))\n",
    "hauteur,largeur,_ = image_LR.shape\n",
    "LaR = np.zeros([hauteur, largeur]) \n",
    "# on associe maintenant à chaque pixel un seul chiffre : l'intensité de gris (entre 0 et 255)\n",
    "LaR = NB(image_LR)[:,:,0] # il suffit de récupérer une des 3 couleurs de la conversion en niveau de gris de l'image\n",
    "affichage = Image.fromarray(LaR)\n",
    "display(affichage)"
   ]
  },
  {
   "cell_type": "code",
   "execution_count": null,
   "id": "ae363422",
   "metadata": {
    "deletable": false,
    "editable": false,
    "nbgrader": {
     "cell_type": "code",
     "checksum": "f0ec5bee8d75df1541b5f6fb31860ab4",
     "grade": false,
     "grade_id": "cell-308c9dd2566672ce",
     "locked": true,
     "schema_version": 3,
     "solution": false,
     "task": false
    }
   },
   "outputs": [],
   "source": [
    "LaR_floues = (LaR,)  # un singulet nécessite cette petite virgule pour être reconnu comme tel\n",
    "for i in range(1,5) :\n",
    "    LaR_floues += (flou(LaR,i),)\n",
    "comparaison = np.concatenate(LaR_floues, axis=1)\n",
    "affichage = Image.fromarray(comparaison)\n",
    "display(affichage)"
   ]
  },
  {
   "cell_type": "markdown",
   "id": "fc237198",
   "metadata": {
    "deletable": false,
    "editable": false,
    "nbgrader": {
     "cell_type": "markdown",
     "checksum": "d534f1675b44b86d686774af35f84e8d",
     "grade": false,
     "grade_id": "cell-614ebf8d26276aa1",
     "locked": true,
     "schema_version": 3,
     "solution": false,
     "task": false
    }
   },
   "source": [
    "Les matrices F utilisées dans les 4 images floutées :\n",
    "$\\frac{1}{9}\\begin{pmatrix}1&1&1\\\\1&1&1\\\\1&1&1\\end{pmatrix}$,$\\frac{1}{16}\\begin{pmatrix}1&1&1&1\\\\1&1&1&1\\\\1&1&1&1\\\\1&1&1&1\\end{pmatrix}$,$\\frac{1}{25}\\begin{pmatrix}1&1&1&1&1\\\\1&1&1&1&1\\\\1&1&1&1&1\\\\1&1&1&1&1\\\\1&1&1&1&1\\end{pmatrix}$,$\\frac{1}{36}\\begin{pmatrix}1&1&1&1&1&1\\\\1&1&1&1&1&1\\\\1&1&1&1&1&1\\\\1&1&1&1&1&1\\\\1&1&1&1&1&1\\\\1&1&1&1&1&1\\end{pmatrix}$.<br>\n",
    "Plus la matrices est grande, plus on moyenne de points voisins, plus le flou est important..."
   ]
  },
  {
   "cell_type": "markdown",
   "id": "1cac0f12",
   "metadata": {
    "deletable": false,
    "editable": false,
    "nbgrader": {
     "cell_type": "markdown",
     "checksum": "4addec9892efaf7041ad5f7a33149a45",
     "grade": false,
     "grade_id": "cell-0d2199c37840f194",
     "locked": true,
     "schema_version": 3,
     "solution": false,
     "task": false
    }
   },
   "source": [
    "### Amélioration de la netteté"
   ]
  },
  {
   "cell_type": "markdown",
   "id": "75d76db5",
   "metadata": {
    "deletable": false,
    "editable": false,
    "nbgrader": {
     "cell_type": "markdown",
     "checksum": "2806d95fbba0190c5e4ea88dca9285af",
     "grade": false,
     "grade_id": "cell-7ea574f707c8bae0",
     "locked": true,
     "schema_version": 3,
     "solution": false,
     "task": false
    }
   },
   "source": [
    "On ne veut maintenant plus moyenner, mais au contraire accentuer les différences (cela revient à passer l'image dans un filtre passe-haut).<br>\n",
    "Pour cela, on choisit un noyau $N$ qui récompense les variations entre pixels voisins et est sans effet dans les zones de mêmes teintes :\n",
    "$$N=\\begin{pmatrix}0&-1&0\\\\-1&5&-1\\\\0&-1&0\\end{pmatrix}$$"
   ]
  },
  {
   "cell_type": "markdown",
   "id": "df54b484",
   "metadata": {
    "deletable": false,
    "editable": false,
    "nbgrader": {
     "cell_type": "markdown",
     "checksum": "641f10f82b19f806fd02db861e3c8152",
     "grade": false,
     "grade_id": "cell-d54a7b618cb42d33",
     "locked": true,
     "schema_version": 3,
     "solution": false,
     "task": false
    }
   },
   "source": [
    "Sur le modèle de la fonction `flou`, mais en plus simple, car pas besoin ici de s'embêter avec une marge variable (`conv_np` est donc utilisable), complétez la définition de la fonction `net` qui renvoie le résultat d'une image convoluée par $N$."
   ]
  },
  {
   "cell_type": "code",
   "execution_count": null,
   "id": "df24250f",
   "metadata": {
    "deletable": false,
    "nbgrader": {
     "cell_type": "code",
     "checksum": "60050629a43c7c3ba0470a2de7e08472",
     "grade": false,
     "grade_id": "cell-7e01d38319673127",
     "locked": false,
     "schema_version": 3,
     "solution": true,
     "task": false
    }
   },
   "outputs": [],
   "source": [
    "def net(image) :\n",
    "    \"\"\"\n",
    "    net(image)->image_nette\n",
    "    \"\"\"\n",
    "    image = image.astype(np.int32)\n",
    "    # VOTRE CODE\n",
    "    # on fixe les valeurs qui ont dépassé 255 à 255 et celles sous 0 à 0.\n",
    "    image_nette[image_nette<0] = 0\n",
    "    image_nette[image_nette>255] = 255\n",
    "    image_nette = image_nette.astype(np.uint8) \n",
    "    return image_nette"
   ]
  },
  {
   "cell_type": "code",
   "execution_count": null,
   "id": "7d44058c",
   "metadata": {},
   "outputs": [],
   "source": [
    "LaR_nette = net(LaR_floues[1])\n",
    "comparaison = np.concatenate((LaR_floues[1][1:-1,1:-1],LaR_nette), axis=1)\n",
    "affichage = Image.fromarray(comparaison)\n",
    "display(affichage)"
   ]
  },
  {
   "cell_type": "code",
   "execution_count": null,
   "id": "dfe9dcbd",
   "metadata": {
    "deletable": false,
    "editable": false,
    "nbgrader": {
     "cell_type": "code",
     "checksum": "9e85df8a3cecb2bb7047463781d958d2",
     "grade": true,
     "grade_id": "cell-1855757bd7ac8582",
     "locked": true,
     "points": 1,
     "schema_version": 3,
     "solution": false,
     "task": false
    }
   },
   "outputs": [],
   "source": [
    "# zone de tests, ne pas modifier"
   ]
  },
  {
   "cell_type": "markdown",
   "id": "7dfbc21c",
   "metadata": {
    "deletable": false,
    "editable": false,
    "nbgrader": {
     "cell_type": "markdown",
     "checksum": "0e3c9ca0c06acf152503e870c547433f",
     "grade": false,
     "grade_id": "cell-5764c016c8e03874",
     "locked": true,
     "schema_version": 3,
     "solution": false,
     "task": false
    }
   },
   "source": [
    "### Détection de contour (filtre de Sobel)"
   ]
  },
  {
   "cell_type": "markdown",
   "id": "bc157055",
   "metadata": {
    "deletable": false,
    "editable": false,
    "nbgrader": {
     "cell_type": "markdown",
     "checksum": "8378a3884e104eb99aaa2ea6b8a14c9f",
     "grade": false,
     "grade_id": "cell-36061ebab7c07a11",
     "locked": true,
     "schema_version": 3,
     "solution": false,
     "task": false
    }
   },
   "source": [
    "On va agir en deux temps, grâce à deux noyaux.<br>\n",
    "L'un, $S_x$, va donner des valeurs d'autant plus loin de $0$ qu'il y a un fort gradient horizontal d'intensité dans le bloc $3\\times3$ de l'image inspectée.<br>\n",
    "Et l'autre, $S_y$, va mettre en valeur les gradients verticaux.<br>\n",
    "$S_x = \\begin{pmatrix}-1&0&1\\\\-2&0&2\\\\-1&0&1\\end{pmatrix}$ et $S_y = \\begin{pmatrix}1&2&1\\\\0&0&0\\\\-1&-2&-1\\end{pmatrix}$<br>\n",
    "$S_x$ fait la différence entre les voisins de droite et ceux de gauche quand $S_y$ fait la différence entre les voisins du dessus et ceux de dessous."
   ]
  },
  {
   "cell_type": "code",
   "execution_count": null,
   "id": "1f7fb92e",
   "metadata": {},
   "outputs": [],
   "source": [
    "def grad_x(image) :\n",
    "    image = image.astype(np.int32)\n",
    "    Sx = np.array([[-1, 0, 1], [-2, 0, 2], [-1, 0, 1]])\n",
    "    image_gradx = conv_np(image,Sx)\n",
    "    # les gradients peuvent très bien être négatifs. On translate alors toutes les valeurs pour que la plus basse soit zéro.\n",
    "    image_gradx = image_gradx - np.min(image_gradx)\n",
    "    # on normalise ensuite en faisant en sorte que la plus haute valeur vaille 255\n",
    "    image_gradx = image_gradx/np.max(image_gradx)*255\n",
    "    image_gradx = image_gradx.astype(np.uint8)\n",
    "    return image_gradx"
   ]
  },
  {
   "cell_type": "markdown",
   "id": "a7ec87a2",
   "metadata": {
    "deletable": false,
    "editable": false,
    "nbgrader": {
     "cell_type": "markdown",
     "checksum": "d5426e5a706fe71b6bfd917ab48b1536",
     "grade": false,
     "grade_id": "cell-ea95e9c9ce2b6779",
     "locked": true,
     "schema_version": 3,
     "solution": false,
     "task": false
    }
   },
   "source": [
    "Écrivez la fonction `grad_y` sur le même modèle :"
   ]
  },
  {
   "cell_type": "code",
   "execution_count": null,
   "id": "5fed4273",
   "metadata": {
    "deletable": false,
    "nbgrader": {
     "cell_type": "code",
     "checksum": "fd1bb166a8f4917e0cb9afa0ead61f9f",
     "grade": false,
     "grade_id": "cell-b436aff9f2b0a8f3",
     "locked": false,
     "schema_version": 3,
     "solution": true,
     "task": false
    }
   },
   "outputs": [],
   "source": [
    "def grad_y(image) :\n",
    "    # VOTRE CODE"
   ]
  },
  {
   "cell_type": "code",
   "execution_count": null,
   "id": "059b13ef",
   "metadata": {
    "deletable": false,
    "editable": false,
    "nbgrader": {
     "cell_type": "code",
     "checksum": "f8e131e9d66bec91f0d824ef5cceda97",
     "grade": false,
     "grade_id": "cell-826c43c0a0c7c7a5",
     "locked": true,
     "schema_version": 3,
     "solution": false,
     "task": false
    }
   },
   "outputs": [],
   "source": [
    "Gx = grad_x(LaR)\n",
    "Gy = grad_y(LaR)\n",
    "comparaison = np.concatenate((Gx,Gy), axis=0)\n",
    "affichage = Image.fromarray(comparaison)\n",
    "display(affichage)"
   ]
  },
  {
   "cell_type": "code",
   "execution_count": null,
   "id": "e6ab7c72",
   "metadata": {
    "deletable": false,
    "editable": false,
    "nbgrader": {
     "cell_type": "code",
     "checksum": "2859ceb03ad6eba4d40f58b03935a093",
     "grade": true,
     "grade_id": "cell-22b8e9da8014b4f2",
     "locked": true,
     "points": 1,
     "schema_version": 3,
     "solution": false,
     "task": false
    }
   },
   "outputs": [],
   "source": [
    "# zone de tests, ne pas modifier"
   ]
  },
  {
   "cell_type": "markdown",
   "id": "ca979d3a",
   "metadata": {
    "deletable": false,
    "editable": false,
    "nbgrader": {
     "cell_type": "markdown",
     "checksum": "d63b73246d7bea130c0416679d7b8571",
     "grade": false,
     "grade_id": "cell-d9055efe33971cbc",
     "locked": true,
     "schema_version": 3,
     "solution": false,
     "task": false
    }
   },
   "source": [
    "Le gradient global $G$ s'obtient en \"pythagorisant\" `Gx` et `Gy` : $G=\\sqrt{G_x^2+G_y^2}$\n",
    "\n",
    "Remarque : cela revient finalement à appliquer un filtre passe-haut à l'image."
   ]
  },
  {
   "cell_type": "code",
   "execution_count": null,
   "id": "b4bae483",
   "metadata": {},
   "outputs": [],
   "source": [
    "def grad(image) :\n",
    "    Gx = grad_x(image).astype(np.int32)\n",
    "    Gy = grad_y(image).astype(np.int32)\n",
    "    image_grad = np.sqrt(Gx**2+Gy**2)\n",
    "    image_grad = image_grad/np.max(image_grad)*255\n",
    "    image_grad = image_grad.astype(np.uint8)\n",
    "    return image_grad"
   ]
  },
  {
   "cell_type": "code",
   "execution_count": null,
   "id": "fbe907dc",
   "metadata": {},
   "outputs": [],
   "source": [
    "affichage = Image.fromarray(grad(LaR))\n",
    "display(affichage)"
   ]
  },
  {
   "cell_type": "markdown",
   "id": "b5c4f194",
   "metadata": {
    "deletable": false,
    "editable": false,
    "nbgrader": {
     "cell_type": "markdown",
     "checksum": "75abdb6326cf9106b8332f2b4df8ac83",
     "grade": false,
     "grade_id": "cell-508c0026efd2e259",
     "locked": true,
     "schema_version": 3,
     "solution": false,
     "task": false
    }
   },
   "source": [
    "L'effet de relief est rendu par l'information sur la direction du gradient, information inutile si le contour est tout ce qui nous intéresse (que l'on passe d'une forte intensité à une faible ou l'inverse détecte un contour dans les deux cas).<br>\n",
    "On va donc reprendre les définitions en prenant les valeurs absolues des gradients."
   ]
  },
  {
   "cell_type": "code",
   "execution_count": null,
   "id": "17bd2aba",
   "metadata": {},
   "outputs": [],
   "source": [
    "def grad_abs_x(image) :\n",
    "    image = image.astype(np.int32)\n",
    "    Sx = np.array([[-1, 0, 1], [-2, 0, 2], [-1, 0, 1]])\n",
    "    image_gradx = np.abs(conv_np(image,Sx))\n",
    "    image_gradx = image_gradx/np.max(image_gradx)*255\n",
    "    image_gradx = image_gradx.astype(np.uint8)\n",
    "    return image_gradx\n",
    "def grad_abs_y(image) :\n",
    "    image = image.astype(np.int32)\n",
    "    Sy = np.array([[1, 2, 1], [0, 0, 0], [-1, -2, -1]])\n",
    "    image_grady = np.abs(conv_np(image,Sy))\n",
    "    image_grady = image_grady/np.max(image_grady)*255\n",
    "    image_grady = image_grady.astype(np.uint8)\n",
    "    return image_grady\n",
    "def contour(image) :\n",
    "    Gx = gradabs_x(image).astype(np.int32)\n",
    "    Gy = gradabs_y(image).astype(np.int32)\n",
    "    image_cont = np.sqrt(Gx**2+Gy**2)\n",
    "    image_cont = image_cont/np.max(image_cont)*255\n",
    "    image_cont = image_cont.astype(np.uint8)\n",
    "    return image_cont"
   ]
  },
  {
   "cell_type": "code",
   "execution_count": null,
   "id": "2e4755bb",
   "metadata": {
    "deletable": false,
    "editable": false,
    "nbgrader": {
     "cell_type": "code",
     "checksum": "20b88fe510bf8fdf10c544a2e38b03e9",
     "grade": false,
     "grade_id": "cell-33e2d7be843b62e7",
     "locked": true,
     "schema_version": 3,
     "solution": false,
     "task": false
    }
   },
   "outputs": [],
   "source": [
    "affichage = Image.fromarray(contour(LaR))\n",
    "display(affichage)"
   ]
  },
  {
   "cell_type": "markdown",
   "id": "2d33d7a9",
   "metadata": {
    "deletable": false,
    "editable": false,
    "nbgrader": {
     "cell_type": "markdown",
     "checksum": "93f1305002d0b89fc1234a759f6575fb",
     "grade": false,
     "grade_id": "cell-5599f477a4e4c759",
     "locked": true,
     "schema_version": 3,
     "solution": false,
     "task": false
    }
   },
   "source": [
    "Parmi les images suivantes numérotées de 1 à 4, laquelle est produite par :\n",
    "- A : `grad_x(echiquier)`\n",
    "- B : `grad_abs_y(echiquier)`\n",
    "- C : `contour(echiquier)`\n",
    "- D : `grad(echiquier)`\n",
    "où `echiquier` est l'image suivante :"
   ]
  },
  {
   "cell_type": "markdown",
   "id": "2b085077",
   "metadata": {
    "deletable": false,
    "editable": false,
    "nbgrader": {
     "cell_type": "markdown",
     "checksum": "d1f8c0511345ea0481ddce4c0f647a04",
     "grade": false,
     "grade_id": "cell-84ad59e66704ec6d",
     "locked": true,
     "schema_version": 3,
     "solution": false,
     "task": false
    }
   },
   "source": [
    "![](http://cordier-phychi.toile-libre.org/Info/github/echiquier.png)"
   ]
  },
  {
   "cell_type": "markdown",
   "id": "53af924d",
   "metadata": {
    "deletable": false,
    "editable": false,
    "nbgrader": {
     "cell_type": "markdown",
     "checksum": "3fa3f36b5f11a7e327aea4649030f0d7",
     "grade": false,
     "grade_id": "cell-2f6b4d3e64bd4eb1",
     "locked": true,
     "schema_version": 3,
     "solution": false,
     "task": false
    }
   },
   "source": [
    "<img src=\"http://cordier-phychi.toile-libre.org/Info/github/echiquiz.png\" alt=\"\" width=\"640\"/>"
   ]
  },
  {
   "cell_type": "code",
   "execution_count": null,
   "id": "db5e61ac",
   "metadata": {},
   "outputs": [],
   "source": [
    "# Affectez chacune des variables `A`, `B`, `C`, `D` à l'entier `1`,`2`,`3` ou `4` correspondant à la bonne image.\n",
    "A = 0\n",
    "B = 0\n",
    "C = 0\n",
    "D = 0"
   ]
  },
  {
   "cell_type": "code",
   "execution_count": null,
   "id": "82539f13",
   "metadata": {
    "deletable": false,
    "editable": false,
    "nbgrader": {
     "cell_type": "code",
     "checksum": "534c6b58534cc3cd4a79ee811985d482",
     "grade": true,
     "grade_id": "cell-39b36d7a0984012b",
     "locked": true,
     "points": 1,
     "schema_version": 3,
     "solution": false,
     "task": false
    }
   },
   "outputs": [],
   "source": [
    "# zone de tests, ne pas modifier"
   ]
  },
  {
   "cell_type": "markdown",
   "id": "1fd2e0ac",
   "metadata": {
    "deletable": false,
    "editable": false,
    "nbgrader": {
     "cell_type": "markdown",
     "checksum": "18e625f6a2184e8207f4c65babb8207d",
     "grade": false,
     "grade_id": "cell-563568140a1b63ee",
     "locked": true,
     "schema_version": 3,
     "solution": false,
     "task": false
    }
   },
   "source": [
    "Quand on joue avec des images, les erreurs de code donne parfois des résultats étonnants. N'hésitez pas à enregistrer/copier vos bizarreries, s'il y en a. Je récompenserai la plus belle/tordue.<br>\n",
    "Ci-dessous, un échec faisant tomber la pluie sur La Rochelle...\n",
    "![](http://cordier-phychi.toile-libre.org/Info/github/pluieLR.png)"
   ]
  },
  {
   "cell_type": "code",
   "execution_count": null,
   "id": "4fd4c150",
   "metadata": {},
   "outputs": [],
   "source": [
    "image_LR = np.array(Image.open('Rochelle.jpeg'))\n",
    "hauteur,largeur,_ = image_LR.shape\n",
    "LaR = np.zeros([hauteur, largeur]) \n",
    "# on associe maintenant à chaque pixel un seul chiffre : l'intensité de gris (entre 0 et 255)\n",
    "LaR = NB(image_LR)[:,:,0] # il suffit de récupérer une des 3 couleurs de la conversion en niveau de gris de l'image\n",
    "affichage = Image.fromarray(LaR)\n",
    "display(affichage)"
   ]
  },
  {
   "cell_type": "code",
   "execution_count": null,
   "id": "db245fdd",
   "metadata": {},
   "outputs": [],
   "source": [
    "LaR_floue = flou(LaR,2)\n",
    "affichage = Image.fromarray(LaR_floue)\n",
    "display(affichage)"
   ]
  },
  {
   "cell_type": "code",
   "execution_count": null,
   "id": "861d22a1",
   "metadata": {},
   "outputs": [],
   "source": [
    "LaR_nette = net(LaR_floue)\n",
    "affichage = Image.fromarray(LaR_nette)\n",
    "display(affichage)"
   ]
  },
  {
   "cell_type": "code",
   "execution_count": null,
   "id": "4b066f02",
   "metadata": {},
   "outputs": [],
   "source": [
    "image_LR = np.array(Image.open('LaRtrame.png'))\n",
    "hauteur,largeur,_ = image_LR.shape\n",
    "LaR = np.zeros([hauteur, largeur]) \n",
    "# on associe maintenant à chaque pixel un seul chiffre : l'intensité de gris (entre 0 et 255)\n",
    "LaR = NB(image_LR)[:,:,0] # il suffit de récupérer une des 3 couleurs de la conversion en niveau de gris de l'image\n",
    "affichage = Image.fromarray(LaR)\n",
    "display(affichage)"
   ]
  },
  {
   "cell_type": "code",
   "execution_count": null,
   "id": "1475cae3",
   "metadata": {},
   "outputs": [],
   "source": [
    "from scipy import fftpack\n",
    "import copy\n",
    "import matplotlib.cm\n",
    "im_fft = fftpack.fft2(LaR)\n",
    "def plot_spectrum(im_fft):\n",
    "    from matplotlib.colors import LogNorm\n",
    "    # A logarithmic colormap\n",
    "    plt.imshow(np.abs(im_fft), norm=LogNorm(vmin=1, vmax=1e8),cmap=my_cmap)\n",
    "    plt.colorbar()\n",
    "\n",
    "plt.figure(dpi=300)\n",
    "plot_spectrum(im_fft)\n",
    "plt.title('Fourier transform')"
   ]
  },
  {
   "cell_type": "code",
   "execution_count": null,
   "id": "c4c2a1bb",
   "metadata": {},
   "outputs": [],
   "source": [
    "copie_fft = im_fft.copy()\n",
    "H, L = copie_fft.shape\n",
    "l = 5\n",
    "for i in range(1,20) :\n",
    "    if i != 10 :\n",
    "        yop = np.tile(copie_fft[:, L//20*i-2*l], (2*l, 1)).T\n",
    "        print(i,copie_fft[:, L//20*i-l:L//20*i+l].shape,yop.shape,L//20*i-l,L//20*i+l)\n",
    "        copie_fft[:, L//20*i-l:L//20*i+l] = yop\n",
    "#copie_fft[:,:l] = 0"
   ]
  },
  {
   "cell_type": "code",
   "execution_count": null,
   "id": "bdbfa502",
   "metadata": {},
   "outputs": [],
   "source": [
    "np.tile(copie_fft[:, L//20*i-2*l], (4, 1)).T.shape"
   ]
  },
  {
   "cell_type": "code",
   "execution_count": null,
   "id": "022c53e9",
   "metadata": {},
   "outputs": [],
   "source": [
    "np.array(list(copie_fft[:, L//20*i-2*l])*2*l)"
   ]
  },
  {
   "cell_type": "code",
   "execution_count": null,
   "id": "0db4ba6c",
   "metadata": {},
   "outputs": [],
   "source": [
    "copie_fft = im_fft.copy()\n",
    "copie_fft[:, L//20*5-l:L//20*5+l].shape"
   ]
  },
  {
   "cell_type": "code",
   "execution_count": null,
   "id": "d70bfb3f",
   "metadata": {},
   "outputs": [],
   "source": [
    "plt.figure(dpi=300)\n",
    "plot_spectrum(copie_fft)\n",
    "plt.title('Filtered Spectrum')"
   ]
  },
  {
   "cell_type": "code",
   "execution_count": null,
   "id": "8d089791",
   "metadata": {},
   "outputs": [],
   "source": [
    "im_new = fftpack.ifft2(copie_fft).real\n",
    "plt.figure(dpi=400)\n",
    "plt.imshow(im_new, plt.cm.gray)\n",
    "plt.title('Reconstructed Image')"
   ]
  },
  {
   "cell_type": "code",
   "execution_count": null,
   "id": "a303b100",
   "metadata": {},
   "outputs": [],
   "source": [
    "im_new"
   ]
  },
  {
   "cell_type": "code",
   "execution_count": null,
   "id": "5625a73a",
   "metadata": {},
   "outputs": [],
   "source": []
  }
 ],
 "metadata": {
  "kernelspec": {
   "display_name": "Python 3",
   "language": "python",
   "name": "python3"
  },
  "language_info": {
   "codemirror_mode": {
    "name": "ipython",
    "version": 3
   },
   "file_extension": ".py",
   "mimetype": "text/x-python",
   "name": "python",
   "nbconvert_exporter": "python",
   "pygments_lexer": "ipython3",
   "version": "3.8.10"
  }
 },
 "nbformat": 4,
 "nbformat_minor": 5
}
